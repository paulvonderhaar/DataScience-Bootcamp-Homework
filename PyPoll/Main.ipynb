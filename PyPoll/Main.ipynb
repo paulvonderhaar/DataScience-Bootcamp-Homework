{
 "cells": [
  {
   "cell_type": "code",
   "execution_count": 6,
   "metadata": {},
   "outputs": [
    {
     "name": "stdout",
     "output_type": "stream",
     "text": [
      "Marsh Khan\n",
      " recieved 45.0 of the vote, with 21% total votes\n",
      "Marsh Correy\n",
      " recieved 17.0 of the vote, with 8% total votes\n",
      "Queen Khan\n",
      " recieved 9.0 of the vote, with 4% total votes\n",
      "Marsh Li\n",
      " recieved 6.0 of the vote, with 3% total votes\n",
      "Queen Correy\n",
      " recieved 9.0 of the vote, with 4% total votes\n",
      "Bamoo Correy\n",
      " recieved 2.0 of the vote, with 1% total votes\n",
      "Trandee Khan\n",
      " recieved 9.0 of the vote, with 4% total votes\n",
      "Raffah Khan\n",
      " recieved 2.0 of the vote, with 1% total votes\n",
      "Bamoo O'Tooley recieved 2.0 of the vote, with 1% total votes\n",
      "Marsh Khan\n",
      " is the winner\n"
     ]
    }
   ],
   "source": [
    "#Import libraries\n",
    "import csv\n",
    "#Define variables\n",
    "count=0\n",
    "candidates={}\n",
    "percentages={}\n",
    "max=-1\n",
    "winner=''\n",
    "\n",
    "#Open data, and split the resulting string up into a list\n",
    "with open(\"Poll.csv\") as csvfile:\n",
    "    next(csvfile)\n",
    "    for line in csvfile:\n",
    "        count=count+1\n",
    "        info=line.split(\",\")\n",
    "        #Find the candiadte name inside the resulting list\n",
    "        candidate=info[1]+\" \"+info[2]\n",
    "        #If the candiate already has a key value pair in the dictionary, add one to the value\n",
    "        if candidate in candidates:\n",
    "            candidates[candidate]+=1\n",
    "        #If the candiate doesn't have a key value pair, create a new key value pair with the candiate as the key and a value of one\n",
    "        else:\n",
    "            candidates[candidate]=1\n",
    "#For each candiate, create a new dictionary with the key of the candiate name, and the value of hte percent of votes won\n",
    "for i in candidates:\n",
    "    percentages[i]=round(candidates[i]/count,2)*100\n",
    "    if(percentages[i]>max):\n",
    "        max=percentages[i]\n",
    "        winner=i\n",
    "\n",
    "f= open(\"reults.txt\",\"w+\")\n",
    "for i in (candidates):\n",
    "    print(str(i)+\" recieved \"+str(percentages[i])+\" of the vote, with \"+str(candidates[i])+\"% total votes\")\n",
    "    f.write(str(i)+\" recieved \"+str(percentages[i])+\" of the vote, with \"+str(candidates[i])+\"% total votes\\n\")\n",
    "    \n",
    "    \n",
    "print(winner+\" is the winner\")\n",
    "f.write(winner+\" is the winner\")\n",
    "f.close()\n",
    "    \n",
    "\n"
   ]
  },
  {
   "cell_type": "code",
   "execution_count": null,
   "metadata": {},
   "outputs": [],
   "source": []
  },
  {
   "cell_type": "code",
   "execution_count": null,
   "metadata": {},
   "outputs": [],
   "source": []
  },
  {
   "cell_type": "code",
   "execution_count": null,
   "metadata": {},
   "outputs": [],
   "source": []
  }
 ],
 "metadata": {
  "kernelspec": {
   "display_name": "Conda [PythonData]",
   "language": "python",
   "name": "pythondata"
  },
  "language_info": {
   "codemirror_mode": {
    "name": "ipython",
    "version": 3
   },
   "file_extension": ".py",
   "mimetype": "text/x-python",
   "name": "python",
   "nbconvert_exporter": "python",
   "pygments_lexer": "ipython3",
   "version": "3.7.3"
  }
 },
 "nbformat": 4,
 "nbformat_minor": 2
}
