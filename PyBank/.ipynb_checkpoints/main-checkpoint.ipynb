{
 "cells": [
  {
   "cell_type": "code",
   "execution_count": 9,
   "metadata": {},
   "outputs": [
    {
     "name": "stdout",
     "output_type": "stream",
     "text": [
      "The number of months is : $86\n",
      "The total amount of money is $: 38382578\n",
      "The average monthly change is $: 446309.05\n",
      "The lowest monthly change was the month Sep-2013 with a value of : $-1196225\n",
      "The highest monthly change was the month Feb-2012 with a value of : $1170593\n"
     ]
    }
   ],
   "source": [
    "import csv\n",
    "\n",
    "\n",
    "# In[16]:\n",
    "\n",
    "\n",
    "total=0\n",
    "min=999999999\n",
    "minMonth=''\n",
    "maxMonth=''\n",
    "max=-999999999\n",
    "count=0\n",
    "\n",
    "with open(\"bank.csv\") as csvfile:\n",
    "    myreader=csv.reader(csvfile)\n",
    "    a=next(myreader)\n",
    "    for line in myreader:\n",
    "        count+=1\n",
    "        total=total+float(line[1])\n",
    "        if(float(line[1])>=max):\n",
    "            max=float(line[1])\n",
    "            maxMonth=line[0]\n",
    "        if(float(line[1])<=min):\n",
    "            min=float(line[1])\n",
    "            minMonth=line[0]\n",
    "    count=round(count)\n",
    "    total=round(total)\n",
    "    \n",
    "    min=round(min)\n",
    "    max=round(max)\n",
    "    \n",
    "    print(\"The number of months is : $\"+str(count))\n",
    "    average=round(total/count,2)\n",
    "    print(\"The total amount of money is $: \"+str(total))\n",
    "    print(\"The average monthly change is $: \"+str(average))\n",
    "    print(\"The lowest monthly change was the month \"+minMonth+\" with a value of : $\"+str(min))\n",
    "    print(\"The highest monthly change was the month \"+maxMonth+\" with a value of : $\"+str(max))\n",
    "\n",
    "f= open(\"results.txt\",\"w+\")\n",
    "f.write(\"The number of months is : $\"+str(count)+\"\\n\"+\n",
    "       \"The total amount of money is $: \"+str(total)+\"\\n\"+\n",
    "       \"The average monthly change is $: \"+str(average)+\"\\n\"+\n",
    "       \"The lowest monthly change was the month \"+minMonth+\" with a value of : $\"+str(min)+\"\\n\"+\n",
    "       \"The highest monthly change was the month \"+maxMonth+\" with a value of : $\"+str(max))\n",
    "f.close()\n",
    "\n"
   ]
  },
  {
   "cell_type": "code",
   "execution_count": null,
   "metadata": {},
   "outputs": [],
   "source": []
  }
 ],
 "metadata": {
  "kernelspec": {
   "display_name": "Conda [PythonData]",
   "language": "python",
   "name": "pythondata"
  },
  "language_info": {
   "codemirror_mode": {
    "name": "ipython",
    "version": 3
   },
   "file_extension": ".py",
   "mimetype": "text/x-python",
   "name": "python",
   "nbconvert_exporter": "python",
   "pygments_lexer": "ipython3",
   "version": "3.7.3"
  }
 },
 "nbformat": 4,
 "nbformat_minor": 2
}
